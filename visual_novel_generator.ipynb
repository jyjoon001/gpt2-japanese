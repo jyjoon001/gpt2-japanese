{
  "nbformat": 4,
  "nbformat_minor": 0,
  "metadata": {
    "colab": {
      "name": "visual-novel-generator.ipynb",
      "provenance": [],
      "collapsed_sections": [],
      "authorship_tag": "ABX9TyPI19xDH7FXrD+5ktz4XDiN",
      "include_colab_link": true
    },
    "kernelspec": {
      "name": "python3",
      "display_name": "Python 3"
    },
    "language_info": {
      "name": "python"
    },
    "accelerator": "GPU"
  },
  "cells": [
    {
      "cell_type": "markdown",
      "metadata": {
        "id": "view-in-github",
        "colab_type": "text"
      },
      "source": [
        "<a href=\"https://colab.research.google.com/github/jyjoon001/gpt2-japanese/blob/master/visual_novel_generator.ipynb\" target=\"_parent\"><img src=\"https://colab.research.google.com/assets/colab-badge.svg\" alt=\"Open In Colab\"/></a>"
      ]
    },
    {
      "cell_type": "markdown",
      "metadata": {
        "id": "B6Fxv4WTRrJ2"
      },
      "source": [
        "# Visual Novel Generator\n",
        "\n",
        "이 GPT-2 모델은 사전 학습된 일어 GPT-2 모델에 일본어 텍스트 어드벤처 게임에서 추출된 약 20만줄의 정제된 텍스트 데이터를 전이학습하여 Fine-Tuning하였습니다. \n",
        "\n",
        "Pre-Trained Model과 Training을 위한 기반 코드는 [Japanese GPT2 Generation Model](https://github.com/tanreinama/gpt2-japanese) 을 사용하였습니다. \n",
        "> [@jyjoon001](https://github.com/jyjoon001) , forked from [tanreinama.](https://github.com/tanreinama) "
      ]
    },
    {
      "cell_type": "code",
      "metadata": {
        "colab": {
          "base_uri": "https://localhost:8080/"
        },
        "id": "8-u_0TRhRqnj",
        "outputId": "7ceb04c3-2c74-45ed-e08a-f1ce01a86134"
      },
      "source": [
        "from google.colab import drive\n",
        "drive.mount('/content/drive')\n",
        "%cd /content/drive/MyDrive/"
      ],
      "execution_count": null,
      "outputs": [
        {
          "output_type": "stream",
          "text": [
            "Mounted at /content/drive\n",
            "/content/drive/MyDrive\n"
          ],
          "name": "stdout"
        }
      ]
    },
    {
      "cell_type": "markdown",
      "metadata": {
        "id": "HipI56hcYk_y"
      },
      "source": [
        "Google Drive에 파일이 있는지 확인하며 파일이 존재하지 않을 경우 Fine-Tune된 모델과 코드를 다운로드합니다. <br> 해당 파일은 1.1GB의 크기를 가지고 있습니다. \n",
        "* 적절한 웹호스팅 공간이 없어 임시로 Naver Mail 서버를 사용하고 있습니다."
      ]
    },
    {
      "cell_type": "code",
      "metadata": {
        "colab": {
          "base_uri": "https://localhost:8080/"
        },
        "id": "IpNYfLjCXFf9",
        "outputId": "83d368f9-2bd1-485d-a332-f33b07af8144"
      },
      "source": [
        "import os\n",
        "if os.path.isfile('/content/drive/MyDrive/visual-novel-generator/gpt2-generate.py') is True:\n",
        "    print('path found.')\n",
        "else:\n",
        "    print('path not found, downloading model.')\n",
        "    !wget https://bigfile.mail.naver.com/bigfileupload/download?fid=pXR5Wre8D6cZHqujKxgmFoMdax2mHqUmKoumFqg9KxbwFqEdHqurKo2maAvwaxvjF634KzFoMqg9FqUwp6EmF6trF4EZpxFoK6EdFAK9Mov=\n",
        "    !unzip download?fid=pXR5Wre8D6cZHqujKxgmFoMdax2mHqUmKoumFqg9KxbwFqEdHqurKo2maAvwaxvjF634KzFoMqg9FqUwp6EmF6trF4EZpxFoK6EdFAK9Mov="
      ],
      "execution_count": null,
      "outputs": [
        {
          "output_type": "stream",
          "text": [
            "path not found, downloading model.\n",
            "--2021-07-05 09:00:13--  https://bigfile.mail.naver.com/bigfileupload/download?fid=pXR5Wre8D6cZHqujKxgmFoMdax2mHqUmKoumFqg9KxbwFqEdHqurKo2maAvwaxvjF634KzFoMqg9FqUwp6EmF6trF4EZpxFoK6EdFAK9Mov=\n",
            "Resolving bigfile.mail.naver.com (bigfile.mail.naver.com)... 125.209.234.99\n",
            "Connecting to bigfile.mail.naver.com (bigfile.mail.naver.com)|125.209.234.99|:443... connected.\n",
            "HTTP request sent, awaiting response... 200 \n",
            "Length: 1209179497 (1.1G) [application/x-zip-compressed]\n",
            "Saving to: ‘download?fid=pXR5Wre8D6cZHqujKxgmFoMdax2mHqUmKoumFqg9KxbwFqEdHqurKo2maAvwaxvjF634KzFoMqg9FqUwp6EmF6trF4EZpxFoK6EdFAK9Mov=’\n",
            "\n",
            "download?fid=pXR5Wr 100%[===================>]   1.13G  15.2MB/s    in 87s     \n",
            "\n",
            "2021-07-05 09:01:41 (13.3 MB/s) - ‘download?fid=pXR5Wre8D6cZHqujKxgmFoMdax2mHqUmKoumFqg9KxbwFqEdHqurKo2maAvwaxvjF634KzFoMqg9FqUwp6EmF6trF4EZpxFoK6EdFAK9Mov=’ saved [1209179497/1209179497]\n",
            "\n",
            "Archive:  download?fid=pXR5Wre8D6cZHqujKxgmFoMdax2mHqUmKoumFqg9KxbwFqEdHqurKo2maAvwaxvjF634KzFoMqg9FqUwp6EmF6trF4EZpxFoK6EdFAK9Mov=\n",
            "   creating: visual-novel-generator/\n",
            "   creating: visual-novel-generator/__pycache__/\n",
            "  inflating: visual-novel-generator/__pycache__/encode_bpe.cpython-37.pyc  \n",
            "  inflating: visual-novel-generator/__pycache__/model.cpython-37.pyc  \n",
            "  inflating: visual-novel-generator/__pycache__/sampling.cpython-37.pyc  \n",
            "   creating: visual-novel-generator/checkpoint/\n",
            "   creating: visual-novel-generator/checkpoint/gpr2ja-finetune_run1/\n",
            "  inflating: visual-novel-generator/checkpoint/gpr2ja-finetune_run1/checkpoint  \n",
            " extracting: visual-novel-generator/checkpoint/gpr2ja-finetune_run1/counter  \n",
            "  inflating: visual-novel-generator/checkpoint/gpr2ja-finetune_run1/hparams.json  \n",
            "  inflating: visual-novel-generator/checkpoint/gpr2ja-finetune_run1/model-5000.data-00000-of-00001  \n",
            "  inflating: visual-novel-generator/checkpoint/gpr2ja-finetune_run1/model-5000.index  \n",
            "  inflating: visual-novel-generator/checkpoint/gpr2ja-finetune_run1/model-5000.meta  \n",
            "  inflating: visual-novel-generator/emoji.json  \n",
            "  inflating: visual-novel-generator/encode_bpe.py  \n",
            "  inflating: visual-novel-generator/gpt2-generate.py  \n",
            "  inflating: visual-novel-generator/gpt2-transform.py  \n",
            "  inflating: visual-novel-generator/ja-bpe.txt  \n",
            "   creating: visual-novel-generator/Japanese-BPEEncoder-master/\n",
            "  inflating: visual-novel-generator/Japanese-BPEEncoder-master/bpeja.png  \n",
            "  inflating: visual-novel-generator/Japanese-BPEEncoder-master/emoji.json  \n",
            "  inflating: visual-novel-generator/Japanese-BPEEncoder-master/encode_bpe.py  \n",
            "  inflating: visual-novel-generator/Japanese-BPEEncoder-master/ja-bpe.txt  \n",
            "  inflating: visual-novel-generator/Japanese-BPEEncoder-master/LICENSE.txt  \n",
            "  inflating: visual-novel-generator/Japanese-BPEEncoder-master/README.md  \n",
            "  inflating: visual-novel-generator/Japanese-BPEEncoder-master/tmp0.pkl  \n",
            "  inflating: visual-novel-generator/Japanese-BPEEncoder-master/tmp1.pkl  \n",
            "  inflating: visual-novel-generator/Japanese-BPEEncoder-master/tmp2.pkl  \n",
            "  inflating: visual-novel-generator/Japanese-BPEEncoder-master/tmp3.pkl  \n",
            "  inflating: visual-novel-generator/Japanese-BPEEncoder-master/tmp4.pkl  \n",
            "  inflating: visual-novel-generator/Japanese-BPEEncoder-master/tmp5.pkl  \n",
            "  inflating: visual-novel-generator/Japanese-BPEEncoder-master/tmp6.pkl  \n",
            "  inflating: visual-novel-generator/Japanese-BPEEncoder-master/tmp7.pkl  \n",
            "  inflating: visual-novel-generator/LICENSE  \n",
            "  inflating: visual-novel-generator/model.py  \n",
            " extracting: visual-novel-generator/prologue.txt  \n",
            "  inflating: visual-novel-generator/README.md  \n",
            "   creating: visual-novel-generator/report/\n",
            "  inflating: visual-novel-generator/report/corpus.md  \n",
            "  inflating: visual-novel-generator/report/models.md  \n",
            "  inflating: visual-novel-generator/report/sponsor.md  \n",
            "  inflating: visual-novel-generator/requirements.txt  \n",
            "  inflating: visual-novel-generator/run_finetune.py  \n",
            "  inflating: visual-novel-generator/sampling.py  \n",
            " extracting: visual-novel-generator/script.txt  \n",
            " extracting: visual-novel-generator/temperature.txt  \n"
          ],
          "name": "stdout"
        }
      ]
    },
    {
      "cell_type": "markdown",
      "metadata": {
        "id": "R4NgjI4hg3r2"
      },
      "source": [
        "starting_word를 조정해서 생성 모델이 어떤 후속 문장을 생성할지를 정할 수 있습니다."
      ]
    },
    {
      "cell_type": "code",
      "metadata": {
        "id": "zmg5VRvUXM78"
      },
      "source": [
        "starting_word = \"けれど、あなたは私に夢と希望をくれました。\" #그렇지만, 당신은 저에게 꿈과 희망을 주었습니다."
      ],
      "execution_count": null,
      "outputs": []
    },
    {
      "cell_type": "markdown",
      "metadata": {
        "id": "LW6XGhPhhKeu"
      },
      "source": [
        "필요한 코드를 실행시키기 위하여 필요한 라이브러리를 다운받습니다. \n",
        "</br> jaconv는 정제되지 않은 일어 데이터를 unicode 데이터로 normalize합니다."
      ]
    },
    {
      "cell_type": "code",
      "metadata": {
        "colab": {
          "base_uri": "https://localhost:8080/"
        },
        "id": "EZalnoUJXRzj",
        "outputId": "e6feead9-00d5-44cb-cc27-285e0576c39e"
      },
      "source": [
        "%cd /content/drive/MyDrive/visual-novel-generator/\n",
        "with open(\"prologue.txt\", \"w\") as output:\n",
        "     output.write(starting_word)\n",
        "!pip install jaconv"
      ],
      "execution_count": null,
      "outputs": [
        {
          "output_type": "stream",
          "text": [
            "/content/drive/MyDrive/visual-novel-generator\n",
            "Collecting jaconv\n",
            "  Downloading https://files.pythonhosted.org/packages/4f/c3/26e3c4121fce080594e4a714d8fac69c281e8159f65e4ad77188d9141e27/jaconv-0.3.tar.gz\n",
            "Building wheels for collected packages: jaconv\n",
            "  Building wheel for jaconv (setup.py) ... \u001b[?25l\u001b[?25hdone\n",
            "  Created wheel for jaconv: filename=jaconv-0.3-cp37-none-any.whl size=15566 sha256=bf774d249071de64f1e8ef0319cc653d07bde5ad1e046adae46d25c26dd55289\n",
            "  Stored in directory: /root/.cache/pip/wheels/95/c8/4d/c29135241814c9221027da775d00bcfead63bc924f8ccdaf41\n",
            "Successfully built jaconv\n",
            "Installing collected packages: jaconv\n",
            "Successfully installed jaconv-0.3\n"
          ],
          "name": "stdout"
        }
      ]
    },
    {
      "cell_type": "markdown",
      "metadata": {
        "id": "5cQh4bnsg5Zl"
      },
      "source": [
        "gpt2-generate.py를 통하여 소스 코드를 실행시킵니다. \n",
        "해당 gpt2-generate.py는 다음과 같은 형태로 이루어져 있습니다. \n",
        "* argparse를 통하여 argument를 설정합니다. 사용하는 model, 입력/출력 문장, 최대/최소 음절과 문장이 얼마나 임의의 단어를 생성하는지에 대한 temperature 계수, top-k 및 top-p sampling 시 사용하는 어절의 갯수 등을 결정합니다. \n",
        "* 사용하는 Model의 정보를 불러온 뒤 layer 갯수 등의 정보를 결정합니다. \n",
        "* generate_one 함수에서는 우선 입력 문장을 encode하여  Tensorflow session을 실행시켜 후속 토큰을 생성하며, 이를 decode하여 자연어로 출력한다. 이 때```'<|endoftext|>'``` 토큰이 나올 경우는 생성된 문장에 last 라벨링을 하여 문장의 끝을 알 수 있게 합니다. \n",
        "* Tensorflow session의 경우 sampling.py의 sample_sequence를 통해서 output을 결정합니다. 이후, max_length까지 위의 함수를 통하여 문장을 generate합니다. "
      ]
    },
    {
      "cell_type": "code",
      "metadata": {
        "colab": {
          "base_uri": "https://localhost:8080/",
          "height": 775
        },
        "id": "BBiex_g0XSxy",
        "outputId": "417dcc1d-e2be-4a5c-deb7-b9961244391b"
      },
      "source": [
        "!python3 gpt2-generate.py --num_generate 1 --temperature 1.5 --max_length 1024 --min_length 512\n",
        "from google.colab import files\n",
        "files.download(\"script.txt\")"
      ],
      "execution_count": null,
      "outputs": [
        {
          "output_type": "stream",
          "text": [
            "2021-07-05 09:03:03.645205: I tensorflow/stream_executor/platform/default/dso_loader.cc:53] Successfully opened dynamic library libcudart.so.11.0\n",
            "2021-07-05 09:03:05.026869: I tensorflow/stream_executor/platform/default/dso_loader.cc:53] Successfully opened dynamic library libcuda.so.1\n",
            "2021-07-05 09:03:05.085617: I tensorflow/stream_executor/cuda/cuda_gpu_executor.cc:937] successful NUMA node read from SysFS had negative value (-1), but there must be at least one NUMA node, so returning NUMA node zero\n",
            "2021-07-05 09:03:05.086211: I tensorflow/core/common_runtime/gpu/gpu_device.cc:1733] Found device 0 with properties: \n",
            "pciBusID: 0000:00:04.0 name: Tesla T4 computeCapability: 7.5\n",
            "coreClock: 1.59GHz coreCount: 40 deviceMemorySize: 14.75GiB deviceMemoryBandwidth: 298.08GiB/s\n",
            "2021-07-05 09:03:05.086262: I tensorflow/stream_executor/platform/default/dso_loader.cc:53] Successfully opened dynamic library libcudart.so.11.0\n",
            "2021-07-05 09:03:05.268662: I tensorflow/stream_executor/platform/default/dso_loader.cc:53] Successfully opened dynamic library libcublas.so.11\n",
            "2021-07-05 09:03:05.268755: I tensorflow/stream_executor/platform/default/dso_loader.cc:53] Successfully opened dynamic library libcublasLt.so.11\n",
            "2021-07-05 09:03:05.376432: I tensorflow/stream_executor/platform/default/dso_loader.cc:53] Successfully opened dynamic library libcufft.so.10\n",
            "2021-07-05 09:03:05.392564: I tensorflow/stream_executor/platform/default/dso_loader.cc:53] Successfully opened dynamic library libcurand.so.10\n",
            "2021-07-05 09:03:05.683468: I tensorflow/stream_executor/platform/default/dso_loader.cc:53] Successfully opened dynamic library libcusolver.so.10\n",
            "2021-07-05 09:03:05.740228: I tensorflow/stream_executor/platform/default/dso_loader.cc:53] Successfully opened dynamic library libcusparse.so.11\n",
            "2021-07-05 09:03:05.744085: I tensorflow/stream_executor/platform/default/dso_loader.cc:53] Successfully opened dynamic library libcudnn.so.8\n",
            "2021-07-05 09:03:05.744245: I tensorflow/stream_executor/cuda/cuda_gpu_executor.cc:937] successful NUMA node read from SysFS had negative value (-1), but there must be at least one NUMA node, so returning NUMA node zero\n",
            "2021-07-05 09:03:05.745061: I tensorflow/stream_executor/cuda/cuda_gpu_executor.cc:937] successful NUMA node read from SysFS had negative value (-1), but there must be at least one NUMA node, so returning NUMA node zero\n",
            "2021-07-05 09:03:05.747999: I tensorflow/core/common_runtime/gpu/gpu_device.cc:1871] Adding visible gpu devices: 0\n",
            "2021-07-05 09:03:05.750587: I tensorflow/stream_executor/platform/default/dso_loader.cc:53] Successfully opened dynamic library libcudart.so.11.0\n",
            "2021-07-05 09:03:10.097398: I tensorflow/core/common_runtime/gpu/gpu_device.cc:1258] Device interconnect StreamExecutor with strength 1 edge matrix:\n",
            "2021-07-05 09:03:10.097447: I tensorflow/core/common_runtime/gpu/gpu_device.cc:1264]      0 \n",
            "2021-07-05 09:03:10.097471: I tensorflow/core/common_runtime/gpu/gpu_device.cc:1277] 0:   N \n",
            "2021-07-05 09:03:10.097632: I tensorflow/stream_executor/cuda/cuda_gpu_executor.cc:937] successful NUMA node read from SysFS had negative value (-1), but there must be at least one NUMA node, so returning NUMA node zero\n",
            "2021-07-05 09:03:10.098231: I tensorflow/stream_executor/cuda/cuda_gpu_executor.cc:937] successful NUMA node read from SysFS had negative value (-1), but there must be at least one NUMA node, so returning NUMA node zero\n",
            "2021-07-05 09:03:10.098783: I tensorflow/stream_executor/cuda/cuda_gpu_executor.cc:937] successful NUMA node read from SysFS had negative value (-1), but there must be at least one NUMA node, so returning NUMA node zero\n",
            "2021-07-05 09:03:10.099318: I tensorflow/core/common_runtime/gpu/gpu_device.cc:1418] Created TensorFlow device (/job:localhost/replica:0/task:0/device:GPU:0 with 13837 MB memory) -> physical GPU (device: 0, name: Tesla T4, pci bus id: 0000:00:04.0, compute capability: 7.5)\n",
            "WARNING:tensorflow:From /content/drive/My Drive/visual-novel-generator/sampling.py:65: to_float (from tensorflow.python.ops.math_ops) is deprecated and will be removed in a future version.\n",
            "Instructions for updating:\n",
            "Use `tf.cast` instead.\n",
            "2021-07-05 09:03:14.702850: I tensorflow/stream_executor/cuda/cuda_gpu_executor.cc:937] successful NUMA node read from SysFS had negative value (-1), but there must be at least one NUMA node, so returning NUMA node zero\n",
            "2021-07-05 09:03:14.703465: I tensorflow/core/common_runtime/gpu/gpu_device.cc:1733] Found device 0 with properties: \n",
            "pciBusID: 0000:00:04.0 name: Tesla T4 computeCapability: 7.5\n",
            "coreClock: 1.59GHz coreCount: 40 deviceMemorySize: 14.75GiB deviceMemoryBandwidth: 298.08GiB/s\n",
            "2021-07-05 09:03:14.703566: I tensorflow/stream_executor/cuda/cuda_gpu_executor.cc:937] successful NUMA node read from SysFS had negative value (-1), but there must be at least one NUMA node, so returning NUMA node zero\n",
            "2021-07-05 09:03:14.704097: I tensorflow/stream_executor/cuda/cuda_gpu_executor.cc:937] successful NUMA node read from SysFS had negative value (-1), but there must be at least one NUMA node, so returning NUMA node zero\n",
            "2021-07-05 09:03:14.704588: I tensorflow/core/common_runtime/gpu/gpu_device.cc:1871] Adding visible gpu devices: 0\n",
            "WARNING:tensorflow:From /usr/local/lib/python3.7/dist-packages/tensorflow/python/util/dispatch.py:206: multinomial (from tensorflow.python.ops.random_ops) is deprecated and will be removed in a future version.\n",
            "Instructions for updating:\n",
            "Use `tf.random.categorical` instead.\n",
            "2021-07-05 09:03:17.233175: I tensorflow/core/platform/profile_utils/cpu_utils.cc:114] CPU Frequency: 2199995000 Hz\n",
            "2021-07-05 09:03:23.431281: I tensorflow/stream_executor/platform/default/dso_loader.cc:53] Successfully opened dynamic library libcublas.so.11\n",
            "2021-07-05 09:03:26.007464: I tensorflow/stream_executor/platform/default/dso_loader.cc:53] Successfully opened dynamic library libcublasLt.so.11\n"
          ],
          "name": "stdout"
        },
        {
          "output_type": "display_data",
          "data": {
            "application/javascript": [
              "\n",
              "    async function download(id, filename, size) {\n",
              "      if (!google.colab.kernel.accessAllowed) {\n",
              "        return;\n",
              "      }\n",
              "      const div = document.createElement('div');\n",
              "      const label = document.createElement('label');\n",
              "      label.textContent = `Downloading \"${filename}\": `;\n",
              "      div.appendChild(label);\n",
              "      const progress = document.createElement('progress');\n",
              "      progress.max = size;\n",
              "      div.appendChild(progress);\n",
              "      document.body.appendChild(div);\n",
              "\n",
              "      const buffers = [];\n",
              "      let downloaded = 0;\n",
              "\n",
              "      const channel = await google.colab.kernel.comms.open(id);\n",
              "      // Send a message to notify the kernel that we're ready.\n",
              "      channel.send({})\n",
              "\n",
              "      for await (const message of channel.messages) {\n",
              "        // Send a message to notify the kernel that we're ready.\n",
              "        channel.send({})\n",
              "        if (message.buffers) {\n",
              "          for (const buffer of message.buffers) {\n",
              "            buffers.push(buffer);\n",
              "            downloaded += buffer.byteLength;\n",
              "            progress.value = downloaded;\n",
              "          }\n",
              "        }\n",
              "      }\n",
              "      const blob = new Blob(buffers, {type: 'application/binary'});\n",
              "      const a = document.createElement('a');\n",
              "      a.href = window.URL.createObjectURL(blob);\n",
              "      a.download = filename;\n",
              "      div.appendChild(a);\n",
              "      a.click();\n",
              "      div.remove();\n",
              "    }\n",
              "  "
            ],
            "text/plain": [
              "<IPython.core.display.Javascript object>"
            ]
          },
          "metadata": {
            "tags": []
          }
        },
        {
          "output_type": "display_data",
          "data": {
            "application/javascript": [
              "download(\"download_6332ee17-7f6a-409b-a42c-9fd5338d027c\", \"script.txt\", 2865)"
            ],
            "text/plain": [
              "<IPython.core.display.Javascript object>"
            ]
          },
          "metadata": {
            "tags": []
          }
        }
      ]
    },
    {
      "cell_type": "code",
      "metadata": {
        "id": "0dzMiuGK6Bgi"
      },
      "source": [
        ""
      ],
      "execution_count": null,
      "outputs": []
    }
  ]
}